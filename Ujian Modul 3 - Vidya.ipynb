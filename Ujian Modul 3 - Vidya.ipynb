{
 "cells": [
  {
   "cell_type": "code",
   "execution_count": 1,
   "metadata": {},
   "outputs": [],
   "source": [
    "import pandas as pd\n",
    "import numpy as np\n",
    "import seaborn as sns\n",
    "import matplotlib.pyplot as plt\n",
    "%matplotlib inline\n",
    "import warnings\n",
    "warnings.filterwarnings(\"ignore\")\n",
    "\n",
    "# PreProcessing\n",
    "from sklearn.compose import ColumnTransformer\n",
    "from sklearn.preprocessing import OneHotEncoder, MinMaxScaler\n",
    "from category_encoders import BinaryEncoder\n",
    "from sklearn.pipeline import Pipeline\n",
    "from sklearn.impute import SimpleImputer\n",
    "\n",
    "# Splitting Data\n",
    "from sklearn.model_selection import train_test_split, StratifiedKFold, cross_val_score, RandomizedSearchCV\n",
    "\n",
    "# Modeling\n",
    "from sklearn.linear_model import LogisticRegression\n",
    "from sklearn.tree import DecisionTreeClassifier\n",
    "from sklearn.neighbors import KNeighborsClassifier\n",
    "from sklearn.metrics import accuracy_score, precision_score\n",
    "from sklearn.ensemble import RandomForestClassifier, AdaBoostClassifier, GradientBoostingClassifier"
   ]
  },
  {
   "cell_type": "code",
   "execution_count": 2,
   "metadata": {
    "scrolled": true
   },
   "outputs": [
    {
     "data": {
      "text/html": [
       "<div>\n",
       "<style scoped>\n",
       "    .dataframe tbody tr th:only-of-type {\n",
       "        vertical-align: middle;\n",
       "    }\n",
       "\n",
       "    .dataframe tbody tr th {\n",
       "        vertical-align: top;\n",
       "    }\n",
       "\n",
       "    .dataframe thead th {\n",
       "        text-align: right;\n",
       "    }\n",
       "</style>\n",
       "<table border=\"1\" class=\"dataframe\">\n",
       "  <thead>\n",
       "    <tr style=\"text-align: right;\">\n",
       "      <th></th>\n",
       "      <th>hotel</th>\n",
       "      <th>is_canceled</th>\n",
       "      <th>adults</th>\n",
       "      <th>children</th>\n",
       "      <th>babies</th>\n",
       "      <th>meal</th>\n",
       "      <th>country</th>\n",
       "      <th>market_segment</th>\n",
       "      <th>distribution_channel</th>\n",
       "      <th>reserved_room_type</th>\n",
       "      <th>booking_changes</th>\n",
       "      <th>deposit_type</th>\n",
       "      <th>days_in_waiting_list</th>\n",
       "      <th>customer_type</th>\n",
       "      <th>required_car_parking_spaces</th>\n",
       "      <th>total_of_special_requests</th>\n",
       "    </tr>\n",
       "  </thead>\n",
       "  <tbody>\n",
       "    <tr>\n",
       "      <th>0</th>\n",
       "      <td>Resort Hotel</td>\n",
       "      <td>0</td>\n",
       "      <td>2</td>\n",
       "      <td>0.0</td>\n",
       "      <td>0</td>\n",
       "      <td>BB</td>\n",
       "      <td>PRT</td>\n",
       "      <td>Direct</td>\n",
       "      <td>Direct</td>\n",
       "      <td>C</td>\n",
       "      <td>3</td>\n",
       "      <td>No Deposit</td>\n",
       "      <td>0</td>\n",
       "      <td>Transient</td>\n",
       "      <td>0</td>\n",
       "      <td>0</td>\n",
       "    </tr>\n",
       "    <tr>\n",
       "      <th>1</th>\n",
       "      <td>Resort Hotel</td>\n",
       "      <td>0</td>\n",
       "      <td>2</td>\n",
       "      <td>0.0</td>\n",
       "      <td>0</td>\n",
       "      <td>BB</td>\n",
       "      <td>PRT</td>\n",
       "      <td>Direct</td>\n",
       "      <td>Direct</td>\n",
       "      <td>C</td>\n",
       "      <td>4</td>\n",
       "      <td>No Deposit</td>\n",
       "      <td>0</td>\n",
       "      <td>Transient</td>\n",
       "      <td>0</td>\n",
       "      <td>0</td>\n",
       "    </tr>\n",
       "    <tr>\n",
       "      <th>2</th>\n",
       "      <td>Resort Hotel</td>\n",
       "      <td>0</td>\n",
       "      <td>1</td>\n",
       "      <td>0.0</td>\n",
       "      <td>0</td>\n",
       "      <td>BB</td>\n",
       "      <td>GBR</td>\n",
       "      <td>Direct</td>\n",
       "      <td>Direct</td>\n",
       "      <td>A</td>\n",
       "      <td>0</td>\n",
       "      <td>No Deposit</td>\n",
       "      <td>0</td>\n",
       "      <td>Transient</td>\n",
       "      <td>0</td>\n",
       "      <td>0</td>\n",
       "    </tr>\n",
       "    <tr>\n",
       "      <th>3</th>\n",
       "      <td>Resort Hotel</td>\n",
       "      <td>0</td>\n",
       "      <td>1</td>\n",
       "      <td>0.0</td>\n",
       "      <td>0</td>\n",
       "      <td>BB</td>\n",
       "      <td>GBR</td>\n",
       "      <td>Corporate</td>\n",
       "      <td>Corporate</td>\n",
       "      <td>A</td>\n",
       "      <td>0</td>\n",
       "      <td>No Deposit</td>\n",
       "      <td>0</td>\n",
       "      <td>Transient</td>\n",
       "      <td>0</td>\n",
       "      <td>0</td>\n",
       "    </tr>\n",
       "    <tr>\n",
       "      <th>4</th>\n",
       "      <td>Resort Hotel</td>\n",
       "      <td>0</td>\n",
       "      <td>2</td>\n",
       "      <td>0.0</td>\n",
       "      <td>0</td>\n",
       "      <td>BB</td>\n",
       "      <td>GBR</td>\n",
       "      <td>Online TA</td>\n",
       "      <td>TA/TO</td>\n",
       "      <td>A</td>\n",
       "      <td>0</td>\n",
       "      <td>No Deposit</td>\n",
       "      <td>0</td>\n",
       "      <td>Transient</td>\n",
       "      <td>0</td>\n",
       "      <td>1</td>\n",
       "    </tr>\n",
       "    <tr>\n",
       "      <th>...</th>\n",
       "      <td>...</td>\n",
       "      <td>...</td>\n",
       "      <td>...</td>\n",
       "      <td>...</td>\n",
       "      <td>...</td>\n",
       "      <td>...</td>\n",
       "      <td>...</td>\n",
       "      <td>...</td>\n",
       "      <td>...</td>\n",
       "      <td>...</td>\n",
       "      <td>...</td>\n",
       "      <td>...</td>\n",
       "      <td>...</td>\n",
       "      <td>...</td>\n",
       "      <td>...</td>\n",
       "      <td>...</td>\n",
       "    </tr>\n",
       "    <tr>\n",
       "      <th>4995</th>\n",
       "      <td>Resort Hotel</td>\n",
       "      <td>1</td>\n",
       "      <td>2</td>\n",
       "      <td>0.0</td>\n",
       "      <td>0</td>\n",
       "      <td>HB</td>\n",
       "      <td>PRT</td>\n",
       "      <td>Groups</td>\n",
       "      <td>Direct</td>\n",
       "      <td>D</td>\n",
       "      <td>0</td>\n",
       "      <td>Non Refund</td>\n",
       "      <td>0</td>\n",
       "      <td>Transient</td>\n",
       "      <td>0</td>\n",
       "      <td>0</td>\n",
       "    </tr>\n",
       "    <tr>\n",
       "      <th>4996</th>\n",
       "      <td>Resort Hotel</td>\n",
       "      <td>1</td>\n",
       "      <td>2</td>\n",
       "      <td>0.0</td>\n",
       "      <td>0</td>\n",
       "      <td>HB</td>\n",
       "      <td>PRT</td>\n",
       "      <td>Groups</td>\n",
       "      <td>Direct</td>\n",
       "      <td>D</td>\n",
       "      <td>0</td>\n",
       "      <td>Non Refund</td>\n",
       "      <td>0</td>\n",
       "      <td>Transient</td>\n",
       "      <td>0</td>\n",
       "      <td>0</td>\n",
       "    </tr>\n",
       "    <tr>\n",
       "      <th>4997</th>\n",
       "      <td>Resort Hotel</td>\n",
       "      <td>1</td>\n",
       "      <td>2</td>\n",
       "      <td>0.0</td>\n",
       "      <td>0</td>\n",
       "      <td>HB</td>\n",
       "      <td>PRT</td>\n",
       "      <td>Groups</td>\n",
       "      <td>Direct</td>\n",
       "      <td>A</td>\n",
       "      <td>0</td>\n",
       "      <td>Non Refund</td>\n",
       "      <td>0</td>\n",
       "      <td>Transient</td>\n",
       "      <td>0</td>\n",
       "      <td>0</td>\n",
       "    </tr>\n",
       "    <tr>\n",
       "      <th>4998</th>\n",
       "      <td>Resort Hotel</td>\n",
       "      <td>1</td>\n",
       "      <td>2</td>\n",
       "      <td>0.0</td>\n",
       "      <td>0</td>\n",
       "      <td>HB</td>\n",
       "      <td>PRT</td>\n",
       "      <td>Groups</td>\n",
       "      <td>Direct</td>\n",
       "      <td>A</td>\n",
       "      <td>0</td>\n",
       "      <td>Non Refund</td>\n",
       "      <td>0</td>\n",
       "      <td>Transient</td>\n",
       "      <td>0</td>\n",
       "      <td>0</td>\n",
       "    </tr>\n",
       "    <tr>\n",
       "      <th>4999</th>\n",
       "      <td>Resort Hotel</td>\n",
       "      <td>1</td>\n",
       "      <td>2</td>\n",
       "      <td>0.0</td>\n",
       "      <td>0</td>\n",
       "      <td>HB</td>\n",
       "      <td>PRT</td>\n",
       "      <td>Groups</td>\n",
       "      <td>Direct</td>\n",
       "      <td>D</td>\n",
       "      <td>0</td>\n",
       "      <td>Non Refund</td>\n",
       "      <td>0</td>\n",
       "      <td>Transient</td>\n",
       "      <td>0</td>\n",
       "      <td>0</td>\n",
       "    </tr>\n",
       "  </tbody>\n",
       "</table>\n",
       "<p>5000 rows × 16 columns</p>\n",
       "</div>"
      ],
      "text/plain": [
       "             hotel  is_canceled  adults  children  babies meal country  \\\n",
       "0     Resort Hotel            0       2       0.0       0   BB     PRT   \n",
       "1     Resort Hotel            0       2       0.0       0   BB     PRT   \n",
       "2     Resort Hotel            0       1       0.0       0   BB     GBR   \n",
       "3     Resort Hotel            0       1       0.0       0   BB     GBR   \n",
       "4     Resort Hotel            0       2       0.0       0   BB     GBR   \n",
       "...            ...          ...     ...       ...     ...  ...     ...   \n",
       "4995  Resort Hotel            1       2       0.0       0   HB     PRT   \n",
       "4996  Resort Hotel            1       2       0.0       0   HB     PRT   \n",
       "4997  Resort Hotel            1       2       0.0       0   HB     PRT   \n",
       "4998  Resort Hotel            1       2       0.0       0   HB     PRT   \n",
       "4999  Resort Hotel            1       2       0.0       0   HB     PRT   \n",
       "\n",
       "     market_segment distribution_channel reserved_room_type  booking_changes  \\\n",
       "0            Direct               Direct                  C                3   \n",
       "1            Direct               Direct                  C                4   \n",
       "2            Direct               Direct                  A                0   \n",
       "3         Corporate            Corporate                  A                0   \n",
       "4         Online TA                TA/TO                  A                0   \n",
       "...             ...                  ...                ...              ...   \n",
       "4995         Groups               Direct                  D                0   \n",
       "4996         Groups               Direct                  D                0   \n",
       "4997         Groups               Direct                  A                0   \n",
       "4998         Groups               Direct                  A                0   \n",
       "4999         Groups               Direct                  D                0   \n",
       "\n",
       "     deposit_type  days_in_waiting_list customer_type  \\\n",
       "0      No Deposit                     0     Transient   \n",
       "1      No Deposit                     0     Transient   \n",
       "2      No Deposit                     0     Transient   \n",
       "3      No Deposit                     0     Transient   \n",
       "4      No Deposit                     0     Transient   \n",
       "...           ...                   ...           ...   \n",
       "4995   Non Refund                     0     Transient   \n",
       "4996   Non Refund                     0     Transient   \n",
       "4997   Non Refund                     0     Transient   \n",
       "4998   Non Refund                     0     Transient   \n",
       "4999   Non Refund                     0     Transient   \n",
       "\n",
       "      required_car_parking_spaces  total_of_special_requests  \n",
       "0                               0                          0  \n",
       "1                               0                          0  \n",
       "2                               0                          0  \n",
       "3                               0                          0  \n",
       "4                               0                          1  \n",
       "...                           ...                        ...  \n",
       "4995                            0                          0  \n",
       "4996                            0                          0  \n",
       "4997                            0                          0  \n",
       "4998                            0                          0  \n",
       "4999                            0                          0  \n",
       "\n",
       "[5000 rows x 16 columns]"
      ]
     },
     "execution_count": 2,
     "metadata": {},
     "output_type": "execute_result"
    }
   ],
   "source": [
    "hotel = pd.read_csv('/Users/zaki/Downloads/hotel_bookings 2.csv',\n",
    "                    usecols = ['hotel', 'is_canceled', 'adults', 'children', 'babies', 'meal', 'country',\n",
    "                               'market_segment', 'distribution_channel', 'reserved_room_type', 'booking_changes',\n",
    "                               'deposit_type', 'days_in_waiting_list', 'customer_type', 'required_car_parking_spaces',\n",
    "                               'total_of_special_requests'])[:5000]\n",
    "hotel"
   ]
  },
  {
   "cell_type": "code",
   "execution_count": 3,
   "metadata": {},
   "outputs": [
    {
     "name": "stdout",
     "output_type": "stream",
     "text": [
      "<class 'pandas.core.frame.DataFrame'>\n",
      "RangeIndex: 5000 entries, 0 to 4999\n",
      "Data columns (total 16 columns):\n",
      " #   Column                       Non-Null Count  Dtype  \n",
      "---  ------                       --------------  -----  \n",
      " 0   hotel                        5000 non-null   object \n",
      " 1   is_canceled                  5000 non-null   int64  \n",
      " 2   adults                       5000 non-null   int64  \n",
      " 3   children                     5000 non-null   float64\n",
      " 4   babies                       5000 non-null   int64  \n",
      " 5   meal                         5000 non-null   object \n",
      " 6   country                      4998 non-null   object \n",
      " 7   market_segment               5000 non-null   object \n",
      " 8   distribution_channel         5000 non-null   object \n",
      " 9   reserved_room_type           5000 non-null   object \n",
      " 10  booking_changes              5000 non-null   int64  \n",
      " 11  deposit_type                 5000 non-null   object \n",
      " 12  days_in_waiting_list         5000 non-null   int64  \n",
      " 13  customer_type                5000 non-null   object \n",
      " 14  required_car_parking_spaces  5000 non-null   int64  \n",
      " 15  total_of_special_requests    5000 non-null   int64  \n",
      "dtypes: float64(1), int64(7), object(8)\n",
      "memory usage: 625.1+ KB\n"
     ]
    }
   ],
   "source": [
    "hotel.info()"
   ]
  },
  {
   "cell_type": "markdown",
   "metadata": {},
   "source": [
    "# EDA"
   ]
  },
  {
   "cell_type": "code",
   "execution_count": 4,
   "metadata": {},
   "outputs": [],
   "source": [
    "hotel_eda = hotel.copy()"
   ]
  },
  {
   "cell_type": "code",
   "execution_count": 5,
   "metadata": {},
   "outputs": [
    {
     "data": {
      "text/plain": [
       "Resort Hotel    5000\n",
       "Name: hotel, dtype: int64"
      ]
     },
     "execution_count": 5,
     "metadata": {},
     "output_type": "execute_result"
    }
   ],
   "source": [
    "hotel_eda['hotel'].value_counts()"
   ]
  },
  {
   "cell_type": "markdown",
   "metadata": {},
   "source": [
    "- In this data, the type of hotel is only Resort Hotel, because I only use 5000 first rows of data."
   ]
  },
  {
   "cell_type": "code",
   "execution_count": 58,
   "metadata": {},
   "outputs": [
    {
     "data": {
      "image/png": "[encoded data removed]",
      "text/plain": [
       "<Figure size 1296x432 with 1 Axes>"
      ]
     },
     "metadata": {
      "needs_background": "light"
     },
     "output_type": "display_data"
    }
   ],
   "source": [
    "plt.figure(figsize=(18,6))\n",
    "sns.countplot(x='is_canceled', data= hotel_eda)\n",
    "plt.title('Cancellation Situation')\n",
    "plt.show()"
   ]
  },
  {
   "cell_type": "code",
   "execution_count": 7,
   "metadata": {},
   "outputs": [
    {
     "data": {
      "text/plain": [
       "0    54.04\n",
       "1    45.96\n",
       "Name: is_canceled, dtype: float64"
      ]
     },
     "execution_count": 7,
     "metadata": {},
     "output_type": "execute_result"
    }
   ],
   "source": [
    "hotel_eda['is_canceled'].value_counts()/hotel.shape[0]*100"
   ]
  },
  {
   "cell_type": "markdown",
   "metadata": {},
   "source": [
    "- The difference ratio between cancel and not cancel tends to be even with:\n",
    "    * Not Cancel: 54,04%\n",
    "    * Cancel: 45,96%"
   ]
  },
  {
   "cell_type": "markdown",
   "metadata": {},
   "source": [
    "### Customer Profiling"
   ]
  },
  {
   "cell_type": "code",
   "execution_count": 8,
   "metadata": {},
   "outputs": [
    {
     "data": {
      "text/html": [
       "<div>\n",
       "<style scoped>\n",
       "    .dataframe tbody tr th:only-of-type {\n",
       "        vertical-align: middle;\n",
       "    }\n",
       "\n",
       "    .dataframe tbody tr th {\n",
       "        vertical-align: top;\n",
       "    }\n",
       "\n",
       "    .dataframe thead th {\n",
       "        text-align: right;\n",
       "    }\n",
       "</style>\n",
       "<table border=\"1\" class=\"dataframe\">\n",
       "  <thead>\n",
       "    <tr style=\"text-align: right;\">\n",
       "      <th>all_children</th>\n",
       "      <th>0.0</th>\n",
       "      <th>1.0</th>\n",
       "      <th>2.0</th>\n",
       "      <th>3.0</th>\n",
       "      <th>10.0</th>\n",
       "      <th>Total</th>\n",
       "    </tr>\n",
       "    <tr>\n",
       "      <th>adults</th>\n",
       "      <th></th>\n",
       "      <th></th>\n",
       "      <th></th>\n",
       "      <th></th>\n",
       "      <th></th>\n",
       "      <th></th>\n",
       "    </tr>\n",
       "  </thead>\n",
       "  <tbody>\n",
       "    <tr>\n",
       "      <th>0</th>\n",
       "      <td>6</td>\n",
       "      <td>0</td>\n",
       "      <td>0</td>\n",
       "      <td>0</td>\n",
       "      <td>0</td>\n",
       "      <td>6</td>\n",
       "    </tr>\n",
       "    <tr>\n",
       "      <th>1</th>\n",
       "      <td>642</td>\n",
       "      <td>7</td>\n",
       "      <td>5</td>\n",
       "      <td>0</td>\n",
       "      <td>0</td>\n",
       "      <td>654</td>\n",
       "    </tr>\n",
       "    <tr>\n",
       "      <th>2</th>\n",
       "      <td>3777</td>\n",
       "      <td>201</td>\n",
       "      <td>195</td>\n",
       "      <td>1</td>\n",
       "      <td>1</td>\n",
       "      <td>4175</td>\n",
       "    </tr>\n",
       "    <tr>\n",
       "      <th>3</th>\n",
       "      <td>116</td>\n",
       "      <td>29</td>\n",
       "      <td>1</td>\n",
       "      <td>0</td>\n",
       "      <td>0</td>\n",
       "      <td>146</td>\n",
       "    </tr>\n",
       "    <tr>\n",
       "      <th>4</th>\n",
       "      <td>3</td>\n",
       "      <td>0</td>\n",
       "      <td>0</td>\n",
       "      <td>0</td>\n",
       "      <td>0</td>\n",
       "      <td>3</td>\n",
       "    </tr>\n",
       "    <tr>\n",
       "      <th>5</th>\n",
       "      <td>2</td>\n",
       "      <td>0</td>\n",
       "      <td>0</td>\n",
       "      <td>0</td>\n",
       "      <td>0</td>\n",
       "      <td>2</td>\n",
       "    </tr>\n",
       "    <tr>\n",
       "      <th>6</th>\n",
       "      <td>1</td>\n",
       "      <td>0</td>\n",
       "      <td>0</td>\n",
       "      <td>0</td>\n",
       "      <td>0</td>\n",
       "      <td>1</td>\n",
       "    </tr>\n",
       "    <tr>\n",
       "      <th>10</th>\n",
       "      <td>1</td>\n",
       "      <td>0</td>\n",
       "      <td>0</td>\n",
       "      <td>0</td>\n",
       "      <td>0</td>\n",
       "      <td>1</td>\n",
       "    </tr>\n",
       "    <tr>\n",
       "      <th>20</th>\n",
       "      <td>2</td>\n",
       "      <td>0</td>\n",
       "      <td>0</td>\n",
       "      <td>0</td>\n",
       "      <td>0</td>\n",
       "      <td>2</td>\n",
       "    </tr>\n",
       "    <tr>\n",
       "      <th>26</th>\n",
       "      <td>5</td>\n",
       "      <td>0</td>\n",
       "      <td>0</td>\n",
       "      <td>0</td>\n",
       "      <td>0</td>\n",
       "      <td>5</td>\n",
       "    </tr>\n",
       "    <tr>\n",
       "      <th>27</th>\n",
       "      <td>2</td>\n",
       "      <td>0</td>\n",
       "      <td>0</td>\n",
       "      <td>0</td>\n",
       "      <td>0</td>\n",
       "      <td>2</td>\n",
       "    </tr>\n",
       "    <tr>\n",
       "      <th>40</th>\n",
       "      <td>1</td>\n",
       "      <td>0</td>\n",
       "      <td>0</td>\n",
       "      <td>0</td>\n",
       "      <td>0</td>\n",
       "      <td>1</td>\n",
       "    </tr>\n",
       "    <tr>\n",
       "      <th>50</th>\n",
       "      <td>1</td>\n",
       "      <td>0</td>\n",
       "      <td>0</td>\n",
       "      <td>0</td>\n",
       "      <td>0</td>\n",
       "      <td>1</td>\n",
       "    </tr>\n",
       "    <tr>\n",
       "      <th>55</th>\n",
       "      <td>1</td>\n",
       "      <td>0</td>\n",
       "      <td>0</td>\n",
       "      <td>0</td>\n",
       "      <td>0</td>\n",
       "      <td>1</td>\n",
       "    </tr>\n",
       "    <tr>\n",
       "      <th>Total</th>\n",
       "      <td>4560</td>\n",
       "      <td>237</td>\n",
       "      <td>201</td>\n",
       "      <td>1</td>\n",
       "      <td>1</td>\n",
       "      <td>5000</td>\n",
       "    </tr>\n",
       "  </tbody>\n",
       "</table>\n",
       "</div>"
      ],
      "text/plain": [
       "all_children   0.0  1.0  2.0  3.0  10.0  Total\n",
       "adults                                        \n",
       "0                6    0    0    0     0      6\n",
       "1              642    7    5    0     0    654\n",
       "2             3777  201  195    1     1   4175\n",
       "3              116   29    1    0     0    146\n",
       "4                3    0    0    0     0      3\n",
       "5                2    0    0    0     0      2\n",
       "6                1    0    0    0     0      1\n",
       "10               1    0    0    0     0      1\n",
       "20               2    0    0    0     0      2\n",
       "26               5    0    0    0     0      5\n",
       "27               2    0    0    0     0      2\n",
       "40               1    0    0    0     0      1\n",
       "50               1    0    0    0     0      1\n",
       "55               1    0    0    0     0      1\n",
       "Total         4560  237  201    1     1   5000"
      ]
     },
     "execution_count": 8,
     "metadata": {},
     "output_type": "execute_result"
    }
   ],
   "source": [
    "hotel_eda['all_children'] = hotel_eda['children'] + hotel_eda['babies']\n",
    "pd.crosstab(hotel_eda['adults'], hotel_eda['all_children'], margins=True, margins_name = 'Total')"
   ]
  },
  {
   "cell_type": "markdown",
   "metadata": {},
   "source": [
    "- Pada data ini, saya menggabungkan antara children dan babies pada kolom all_children untuk mempermudah perhitungan.\n",
    "\n",
    "#### Adults\n",
    "- Dilihat pada data di atas, mayoritas dewasa yang datang berjumlah 2 orang sebanyak 4175 dan yang tanpa membawa anak sebanyak 3777. Ada kemungkinan memiliki tujuan untuk urusan bisnis, atau pasangan yang sedang honeymoon.\n",
    "- Di urutan kedua adalah dewasa yang datang sendirian sebanyak 654 dan yang tanpa membawa anak sebanyak 642. Ada kemungkinan memiliki tujuan untuk urusan bisnis.\n",
    "- Untuk dewasa yang datang lebih dari 4 dewasa, tidak ada yang membawa anak satupun. Ada kemungkinan memiliki tujuan untuk urusan bisnis, atau travelling.\n",
    "\n",
    "#### All Children\n",
    "- Pada data di atas, mayoritas dewasa yang datang tanpa membawa anak sebanyak 4560, di susul dengan yang membawa 1 anak sebanyak 237 dewasa dan 2 anak sebanyak 201 dewasa."
   ]
  },
  {
   "cell_type": "code",
   "execution_count": 73,
   "metadata": {},
   "outputs": [
    {
     "data": {
      "image/png": "[encoded data removed]",
      "text/plain": [
       "<Figure size 1296x432 with 1 Axes>"
      ]
     },
     "metadata": {
      "needs_background": "light"
     },
     "output_type": "display_data"
    }
   ],
   "source": [
    "plt.figure(figsize=(18,6))\n",
    "country_booking = hotel_eda['country'].value_counts(normalize=True).rename_axis('country').reset_index(name='Percentage')\n",
    "sns.barplot(x='country', y='Percentage', data=country_booking.head(10))\n",
    "plt.title('Country of Customers')\n",
    "plt.show()"
   ]
  },
  {
   "cell_type": "markdown",
   "metadata": {},
   "source": [
    "- Categories are represented in the ISO 3155–3:2013 format.\n",
    "- PRT or Portugal has the most booking demand based on the data (more than 60%). It is pretty obvious because if we trace to the publication page, the description tells us that the data source locations are from hotels located in Portugal."
   ]
  },
  {
   "cell_type": "code",
   "execution_count": 46,
   "metadata": {},
   "outputs": [
    {
     "data": {
      "image/png": "[encoded data removed]",
      "text/plain": [
       "<Figure size 1296x432 with 1 Axes>"
      ]
     },
     "metadata": {
      "needs_background": "light"
     },
     "output_type": "display_data"
    }
   ],
   "source": [
    "plt.figure(figsize=(18,6))\n",
    "sns.countplot(x='customer_type', data= hotel_eda)\n",
    "plt.title('Customer Type')\n",
    "plt.show()"
   ]
  },
  {
   "cell_type": "code",
   "execution_count": 47,
   "metadata": {},
   "outputs": [
    {
     "data": {
      "text/plain": [
       "Transient          73.98\n",
       "Transient-Party    21.14\n",
       "Contract            4.38\n",
       "Group               0.50\n",
       "Name: customer_type, dtype: float64"
      ]
     },
     "execution_count": 47,
     "metadata": {},
     "output_type": "execute_result"
    }
   ],
   "source": [
    "hotel_eda['customer_type'].value_counts()/len(hotel_eda['customer_type'])*100"
   ]
  },
  {
   "cell_type": "markdown",
   "metadata": {},
   "source": [
    "Type of booking, assuming one of four categories:\n",
    "- Contract, when the booking has an allotment or other type of contract associated to it\n",
    "- Group, when the booking is associated to a group\n",
    "- Transient, when the booking is not part of a group or contract, and is not associated to other transient booking\n",
    "- Transient-party, when the booking is transient, but is associated to at least other transient booking\n",
    "\n",
    "From the graph:\n",
    "- Transient as much as 73.98%\n",
    "- Transient-party as much as 21.14%\n",
    "- Contract as much as 4.38%\n",
    "- Group as much as 0.50%\n",
    "\n",
    "Most of customers is Transient, means they are walk-in guests, last-minute or bookers, or simply people that require a very short-term stay in your facility. Transient customers are one of the major market segments consist of individuals or groups."
   ]
  },
  {
   "cell_type": "code",
   "execution_count": 70,
   "metadata": {},
   "outputs": [
    {
     "data": {
      "image/png": "[encoded data removed]",
      "text/plain": [
       "<Figure size 1296x432 with 1 Axes>"
      ]
     },
     "metadata": {
      "needs_background": "light"
     },
     "output_type": "display_data"
    }
   ],
   "source": [
    "plt.figure(figsize=(18,6))\n",
    "room_booking = hotel_eda['reserved_room_type'].value_counts(normalize=True).rename_axis('reserved_room_type').reset_index(name='Percentage')\n",
    "sns.barplot(x='reserved_room_type', y='Percentage', data= room_booking)\n",
    "plt.title('Customer Reserved Room Type')\n",
    "plt.show()"
   ]
  },
  {
   "cell_type": "markdown",
   "metadata": {},
   "source": [
    "- Type of Reserved Room is A, D, E, G, C, F, H, L, P. Code is presented instead of designation for anonymity reasons.\n",
    "- Most of customers book the type A room more than 60%."
   ]
  },
  {
   "cell_type": "code",
   "execution_count": 74,
   "metadata": {},
   "outputs": [
    {
     "data": {
      "image/png": "[encoded data removed]",
      "text/plain": [
       "<Figure size 1296x432 with 1 Axes>"
      ]
     },
     "metadata": {
      "needs_background": "light"
     },
     "output_type": "display_data"
    }
   ],
   "source": [
    "plt.figure(figsize=(18,6))\n",
    "sns.countplot(x='total_of_special_requests', data= hotel_eda)\n",
    "plt.title('Total of Special Requests from Customers')\n",
    "plt.show()"
   ]
  },
  {
   "cell_type": "markdown",
   "metadata": {},
   "source": [
    "- Number of special requests made by the customer (e.g. twin bed or high floor)\n",
    "- Most customers don't make any special requests. It has a correlation with customer type. They don't ask for any additional requests because they only transient customers."
   ]
  },
  {
   "cell_type": "markdown",
   "metadata": {},
   "source": [
    "### Customer Behavior"
   ]
  },
  {
   "cell_type": "code",
   "execution_count": 44,
   "metadata": {},
   "outputs": [
    {
     "data": {
      "text/plain": [
       "BB           68.36\n",
       "HB           20.74\n",
       "FB            6.38\n",
       "Undefined     4.24\n",
       "SC            0.28\n",
       "Name: meal, dtype: float64"
      ]
     },
     "execution_count": 44,
     "metadata": {},
     "output_type": "execute_result"
    }
   ],
   "source": [
    "hotel_eda['meal'].value_counts()/len(hotel_eda['meal'])*100"
   ]
  },
  {
   "cell_type": "markdown",
   "metadata": {},
   "source": [
    "Type of meal booked. Categories are presented in standard hospitality meal packages: \n",
    "- BB means Bed & Breakfast as much as 68.36%\n",
    "- HB means Half board (breakfast and one other meal – usually dinner) as much as 20.74%\n",
    "- FB means Full board (breakfast, lunch and dinner) as much as 6.38%\n",
    "- Undefined/SC means no meal as much as 4.52%\n",
    "\n",
    "Most customers prefer to book include Breakfast, which's the usual complimentary if someone wants to book a hotel. In case they don't have time to find breakfast outside the hotel. Some of them around 20.74% book with another meal, usually dinner. Them who came with business interests can get more resting time to not find any dinner outside hotel anymore."
   ]
  },
  {
   "cell_type": "code",
   "execution_count": 75,
   "metadata": {},
   "outputs": [
    {
     "data": {
      "image/png": "[encoded data removed]",
      "text/plain": [
       "<Figure size 1296x720 with 2 Axes>"
      ]
     },
     "metadata": {
      "needs_background": "light"
     },
     "output_type": "display_data"
    }
   ],
   "source": [
    "plt.figure(figsize=(18,10))\n",
    "plt.subplot(211)\n",
    "sns.countplot(data=hotel_eda,x='deposit_type',hue='market_segment')\n",
    "plt.title('Deposit Type for Market Segment')\n",
    "plt.subplot(212)\n",
    "sns.countplot(data=hotel_eda,x='is_canceled',hue='market_segment')\n",
    "plt.title('Cancellation for Market Segment')\n",
    "plt.show()"
   ]
  },
  {
   "cell_type": "markdown",
   "metadata": {},
   "source": [
    "#### Deposit Type for Market Segment\n",
    "- The highest book is using Online TA, with No Deposit. While Groups and Offline TA/TO are next with Refundable and Non refund. In this era, it will be easy to book a hotel using Online TA, especially most Online TA offers the customers without deposit facility. Customers can choose any type of room up to any special request by Online TA.\n",
    "- Looking at Offline TA/TO and Groups, the situations where the deposit was received were only in the scenarios where the groups came. It is quite logical to apply a deposit for a large number of customers who will fill important amount of the hotel capacity.\n",
    "\n",
    "#### Cancellation for Market Segment\n",
    "- The highest cancellation book is using Online TA. Most of Online TA give a customers previllege to cancel without any charge apply. Second, Groups segment has cancellation rate around 50%."
   ]
  },
  {
   "cell_type": "markdown",
   "metadata": {},
   "source": [
    "# Data Cleaning"
   ]
  },
  {
   "cell_type": "code",
   "execution_count": 14,
   "metadata": {},
   "outputs": [
    {
     "data": {
      "text/plain": [
       "hotel                          0.00\n",
       "is_canceled                    0.00\n",
       "adults                         0.00\n",
       "children                       0.00\n",
       "babies                         0.00\n",
       "meal                           0.00\n",
       "country                        0.04\n",
       "market_segment                 0.00\n",
       "distribution_channel           0.00\n",
       "reserved_room_type             0.00\n",
       "booking_changes                0.00\n",
       "deposit_type                   0.00\n",
       "days_in_waiting_list           0.00\n",
       "customer_type                  0.00\n",
       "required_car_parking_spaces    0.00\n",
       "total_of_special_requests      0.00\n",
       "dtype: float64"
      ]
     },
     "execution_count": 14,
     "metadata": {},
     "output_type": "execute_result"
    }
   ],
   "source": [
    "hotel.isna().sum()/len(hotel)*100"
   ]
  },
  {
   "cell_type": "markdown",
   "metadata": {},
   "source": [
    "* There is a column that has 0.04% of missing value. Will process is on ColumnTransformer."
   ]
  },
  {
   "cell_type": "markdown",
   "metadata": {},
   "source": [
    "# PreProcessing"
   ]
  },
  {
   "cell_type": "markdown",
   "metadata": {},
   "source": [
    "*Preprocessing Scheme*\n",
    "\n",
    "- OneHot: hotel, meal, market_segment, distribution_channel, reserved_room_type, deposit_type, customer_type\n",
    "- Binary:\n",
    "    * mode: country (country column more than 10 countries, soI decide to use binary)\n",
    "- PassThrough: adults, children, babies, booking_changes, days_in_waiting_list, required_car_parking_spaces, total_of_special_requests\n",
    "- Target: is_canceled\n",
    "- No need to scale the data because there isn't any interval nominal between columns"
   ]
  },
  {
   "cell_type": "code",
   "execution_count": 16,
   "metadata": {},
   "outputs": [],
   "source": [
    "mode_binary = Pipeline([\n",
    "    ('encoder', SimpleImputer(strategy = 'most_frequent')),\n",
    "    ('binary', BinaryEncoder())\n",
    "])\n",
    "\n",
    "transformer = ColumnTransformer([\n",
    "    ('one hot', OneHotEncoder(handle_unknown = 'ignore'), [ 'hotel', 'meal', 'market_segment', 'distribution_channel',\n",
    "                                                           'reserved_room_type', 'deposit_type', 'customer_type']),\n",
    "    ('mode binary', mode_binary, ['country'])\n",
    "], remainder = 'passthrough')"
   ]
  },
  {
   "cell_type": "markdown",
   "metadata": {},
   "source": [
    "*Define Target Data*"
   ]
  },
  {
   "cell_type": "code",
   "execution_count": 17,
   "metadata": {},
   "outputs": [
    {
     "data": {
      "text/plain": [
       "0    2702\n",
       "1    2298\n",
       "Name: is_canceled, dtype: int64"
      ]
     },
     "execution_count": 17,
     "metadata": {},
     "output_type": "execute_result"
    }
   ],
   "source": [
    "hotel['is_canceled'].value_counts()"
   ]
  },
  {
   "cell_type": "markdown",
   "metadata": {},
   "source": [
    "- The data doesn't indicated imbalance"
   ]
  },
  {
   "cell_type": "code",
   "execution_count": 18,
   "metadata": {},
   "outputs": [],
   "source": [
    "X = hotel.drop('is_canceled', axis = 1)\n",
    "y = hotel['is_canceled']"
   ]
  },
  {
   "cell_type": "markdown",
   "metadata": {},
   "source": [
    "* *0 = Not Canceled*\n",
    "* *1 = Canceled*\n",
    "\n",
    "        - TN: Guest's predict with Not Canceled and the actual is Not Canceled\n",
    "        - TP: Guest's predict with Canceled and the actual is Canceled\n",
    "        - FP: Guest's predict with Canceled and the actual is Not Canceled\n",
    "        - FN: Guest's predict with Not Canceled and the actual is Canceled\n",
    "\n",
    "Tindakan:\n",
    "* FP: Ketika customer datang, kamar tidak tersedia. Customer tidak akan booking ke hotel tersebut karena di anggap memberikan pelayanan yang kurang baik, Hotel mengalami kerugian finansial dan nama baik\n",
    "* FN: Hotel jadi memiliki kelebihan kamar kosong karena di batalkan, customer memiliki previllege untuk memilih fasilitas lebih jika ingin\n",
    "\n",
    "- > Yang akan di tekan adalah FP, precision"
   ]
  },
  {
   "cell_type": "markdown",
   "metadata": {},
   "source": [
    "*Splitting Data*"
   ]
  },
  {
   "cell_type": "code",
   "execution_count": 19,
   "metadata": {},
   "outputs": [
    {
     "data": {
      "text/plain": [
       "(5000, 15)"
      ]
     },
     "execution_count": 19,
     "metadata": {},
     "output_type": "execute_result"
    }
   ],
   "source": [
    "X.shape"
   ]
  },
  {
   "cell_type": "code",
   "execution_count": 20,
   "metadata": {},
   "outputs": [],
   "source": [
    "X_train, X_test, y_train, y_test = train_test_split(X,y,\n",
    "                                                   stratify = y,\n",
    "                                                    test_size = 0.2,\n",
    "                                                   random_state = 1515)"
   ]
  },
  {
   "cell_type": "markdown",
   "metadata": {},
   "source": [
    "- I use 0.2 as default score for test_size and X.shape for random_state so the data will be devided equally."
   ]
  },
  {
   "cell_type": "markdown",
   "metadata": {},
   "source": [
    "# Modeling"
   ]
  },
  {
   "cell_type": "markdown",
   "metadata": {},
   "source": [
    "*Define Model*\n",
    "- I use 3 basic models to predict:\n",
    "    * Logistic Regression\n",
    "    * Decision Tree Classifier\n",
    "    * K-Nearest Neighbor (I add scaler because usually, the score will be better if using a scaler)"
   ]
  },
  {
   "cell_type": "code",
   "execution_count": 21,
   "metadata": {},
   "outputs": [],
   "source": [
    "logreg = LogisticRegression()\n",
    "tree = DecisionTreeClassifier(random_state = 1515)\n",
    "knn = KNeighborsClassifier()"
   ]
  },
  {
   "cell_type": "markdown",
   "metadata": {},
   "source": [
    "### Cross Validation"
   ]
  },
  {
   "cell_type": "code",
   "execution_count": 22,
   "metadata": {},
   "outputs": [
    {
     "data": {
      "text/html": [
       "<div>\n",
       "<style scoped>\n",
       "    .dataframe tbody tr th:only-of-type {\n",
       "        vertical-align: middle;\n",
       "    }\n",
       "\n",
       "    .dataframe tbody tr th {\n",
       "        vertical-align: top;\n",
       "    }\n",
       "\n",
       "    .dataframe thead th {\n",
       "        text-align: right;\n",
       "    }\n",
       "</style>\n",
       "<table border=\"1\" class=\"dataframe\">\n",
       "  <thead>\n",
       "    <tr style=\"text-align: right;\">\n",
       "      <th></th>\n",
       "      <th>method</th>\n",
       "      <th>mean score</th>\n",
       "      <th>std score</th>\n",
       "      <th>precision score</th>\n",
       "    </tr>\n",
       "  </thead>\n",
       "  <tbody>\n",
       "    <tr>\n",
       "      <th>0</th>\n",
       "      <td>Logistic Regression</td>\n",
       "      <td>0.782203</td>\n",
       "      <td>0.005937</td>\n",
       "      <td>0.783636</td>\n",
       "    </tr>\n",
       "    <tr>\n",
       "      <th>1</th>\n",
       "      <td>Decision Tree Classifier</td>\n",
       "      <td>0.810071</td>\n",
       "      <td>0.014007</td>\n",
       "      <td>0.816929</td>\n",
       "    </tr>\n",
       "    <tr>\n",
       "      <th>2</th>\n",
       "      <td>KNN Classifier</td>\n",
       "      <td>0.784107</td>\n",
       "      <td>0.003694</td>\n",
       "      <td>0.783366</td>\n",
       "    </tr>\n",
       "  </tbody>\n",
       "</table>\n",
       "</div>"
      ],
      "text/plain": [
       "                     method  mean score  std score  precision score\n",
       "0       Logistic Regression    0.782203   0.005937         0.783636\n",
       "1  Decision Tree Classifier    0.810071   0.014007         0.816929\n",
       "2            KNN Classifier    0.784107   0.003694         0.783366"
      ]
     },
     "execution_count": 22,
     "metadata": {},
     "output_type": "execute_result"
    }
   ],
   "source": [
    "logreg_pipe = Pipeline([('transformer', transformer), ('logreg', logreg)])\n",
    "tree_pipe = Pipeline([('transformer', transformer), ('tree', tree)])\n",
    "knn_pipe = Pipeline([('transformer', transformer), ('scale', MinMaxScaler()), ('knn', knn)])\n",
    "\n",
    "def model_evaluation(model, metric):\n",
    "    model_cv = cross_val_score(model, X_train, y_train, cv = StratifiedKFold(n_splits = 5), scoring = metric)\n",
    "    return model_cv\n",
    "\n",
    "logreg_pipe_cv = model_evaluation(logreg_pipe, 'precision')\n",
    "tree_pipe_cv = model_evaluation(tree_pipe, 'precision')\n",
    "knn_pipe_cv = model_evaluation(knn_pipe, 'precision')\n",
    "\n",
    "for model in [logreg_pipe, tree_pipe, knn_pipe]:\n",
    "    model.fit(X_train, y_train)\n",
    "    \n",
    "score_mean = [logreg_pipe_cv.mean(), tree_pipe_cv.mean(), knn_pipe_cv.mean()]\n",
    "score_std = [logreg_pipe_cv.std(), tree_pipe_cv.std(), knn_pipe_cv.std()]\n",
    "score_precision_score = [precision_score(y_test, logreg_pipe.predict(X_test)),\n",
    "            precision_score(y_test, tree_pipe.predict(X_test)), \n",
    "            precision_score(y_test, knn_pipe.predict(X_test))]\n",
    "method_name = ['Logistic Regression', 'Decision Tree Classifier', 'KNN Classifier']\n",
    "cv_summary = pd.DataFrame({\n",
    "    'method': method_name,\n",
    "    'mean score': score_mean,\n",
    "    'std score': score_std,\n",
    "    'precision score': score_precision_score\n",
    "})\n",
    "cv_summary"
   ]
  },
  {
   "cell_type": "markdown",
   "metadata": {},
   "source": [
    "- From this method, I will choose Decision Tree Classifier because it has the highest precision score. Even the score is already good, let's see how well the score after processed with Ensemble model."
   ]
  },
  {
   "cell_type": "markdown",
   "metadata": {},
   "source": [
    "*Define Ensemble Model*\n",
    "\n",
    "There are 2 methods in Ensemble Model that I will use:\n",
    "- Bagging, Training individual model in a parallel way. Each model is trained by a random subset of the data.\n",
    "    * Random Forest Classifier\n",
    "- Boosting, Training individual model in a sequential way. Each individual model learns from mistakes made by the previous model.\n",
    "    * Gradient Boost Classifier\n",
    "    * Ada Boost Classifier (using Decision Tree Classifier)\n",
    "\n",
    "### Let’s grow some “trees”."
   ]
  },
  {
   "cell_type": "code",
   "execution_count": 23,
   "metadata": {},
   "outputs": [],
   "source": [
    "ada = AdaBoostClassifier(tree, random_state = 1515)\n",
    "grad = GradientBoostingClassifier(random_state = 1515)\n",
    "rf = RandomForestClassifier(random_state = 1515)"
   ]
  },
  {
   "cell_type": "markdown",
   "metadata": {},
   "source": [
    "### Cross Validation"
   ]
  },
  {
   "cell_type": "code",
   "execution_count": 24,
   "metadata": {},
   "outputs": [
    {
     "data": {
      "text/html": [
       "<div>\n",
       "<style scoped>\n",
       "    .dataframe tbody tr th:only-of-type {\n",
       "        vertical-align: middle;\n",
       "    }\n",
       "\n",
       "    .dataframe tbody tr th {\n",
       "        vertical-align: top;\n",
       "    }\n",
       "\n",
       "    .dataframe thead th {\n",
       "        text-align: right;\n",
       "    }\n",
       "</style>\n",
       "<table border=\"1\" class=\"dataframe\">\n",
       "  <thead>\n",
       "    <tr style=\"text-align: right;\">\n",
       "      <th></th>\n",
       "      <th>method</th>\n",
       "      <th>mean score</th>\n",
       "      <th>std score</th>\n",
       "      <th>precision score</th>\n",
       "    </tr>\n",
       "  </thead>\n",
       "  <tbody>\n",
       "    <tr>\n",
       "      <th>0</th>\n",
       "      <td>Ada Boost Classifier</td>\n",
       "      <td>0.815617</td>\n",
       "      <td>0.016659</td>\n",
       "      <td>0.815029</td>\n",
       "    </tr>\n",
       "    <tr>\n",
       "      <th>1</th>\n",
       "      <td>Gradient Boosting Classifier</td>\n",
       "      <td>0.789825</td>\n",
       "      <td>0.004535</td>\n",
       "      <td>0.793165</td>\n",
       "    </tr>\n",
       "    <tr>\n",
       "      <th>2</th>\n",
       "      <td>Random Forest Classifierr</td>\n",
       "      <td>0.818733</td>\n",
       "      <td>0.013248</td>\n",
       "      <td>0.828794</td>\n",
       "    </tr>\n",
       "  </tbody>\n",
       "</table>\n",
       "</div>"
      ],
      "text/plain": [
       "                         method  mean score  std score  precision score\n",
       "0          Ada Boost Classifier    0.815617   0.016659         0.815029\n",
       "1  Gradient Boosting Classifier    0.789825   0.004535         0.793165\n",
       "2     Random Forest Classifierr    0.818733   0.013248         0.828794"
      ]
     },
     "execution_count": 24,
     "metadata": {},
     "output_type": "execute_result"
    }
   ],
   "source": [
    "ada_pipe = Pipeline([('transformer', transformer), ('ada', ada)])\n",
    "grad_pipe = Pipeline([('transformer', transformer), ('grad', grad)])\n",
    "rf_pipe = Pipeline([('transformer', transformer), ('rf', rf)])\n",
    "\n",
    "def model_evaluation(model, metric):\n",
    "    model_cv = cross_val_score(model, X_train, y_train, cv = StratifiedKFold(n_splits = 5), scoring = metric)\n",
    "    return model_cv\n",
    "\n",
    "ada_pipe_cv = model_evaluation(ada_pipe, 'precision')\n",
    "grad_pipe_cv = model_evaluation(grad_pipe, 'precision')\n",
    "rf_pipe_cv = model_evaluation(rf_pipe, 'precision')\n",
    "\n",
    "for model in [ada_pipe, grad_pipe, rf_pipe]:\n",
    "    model.fit(X_train, y_train)\n",
    "    \n",
    "score_mean = [ada_pipe_cv.mean(), grad_pipe_cv.mean(), rf_pipe_cv.mean()]\n",
    "score_std = [ada_pipe_cv.std(), grad_pipe_cv.std(), rf_pipe_cv.std()]\n",
    "score_precision_score = [precision_score(y_test, ada_pipe.predict(X_test)),\n",
    "            precision_score(y_test, grad_pipe.predict(X_test)), \n",
    "            precision_score(y_test, rf_pipe.predict(X_test))]\n",
    "method_name = ['Ada Boost Classifier', 'Gradient Boosting Classifier', 'Random Forest Classifierr']\n",
    "boost_summary = pd.DataFrame({\n",
    "    'method': method_name,\n",
    "    'mean score': score_mean,\n",
    "    'std score': score_std,\n",
    "    'precision score': score_precision_score\n",
    "})\n",
    "boost_summary"
   ]
  },
  {
   "cell_type": "markdown",
   "metadata": {},
   "source": [
    "- Some of scores are getting better. The model I choose is Random Forest Classifier. Why I choose this model? Because the ensemble model tends to be more flexible (less bias) and less data-sensitive (less variance)."
   ]
  },
  {
   "cell_type": "markdown",
   "metadata": {},
   "source": [
    "Based on 2 model proccesing, Cross Validate the basic model and Cross Validate the ensemble model, I pick Random Forest Classifier and continue to HyperParameter Tuning process."
   ]
  },
  {
   "cell_type": "markdown",
   "metadata": {},
   "source": [
    "# HyperParam Tuning"
   ]
  },
  {
   "cell_type": "code",
   "execution_count": 25,
   "metadata": {},
   "outputs": [
    {
     "name": "stdout",
     "output_type": "stream",
     "text": [
      "best score 0.819833657215093\n",
      "best param {'model__n_estimators': 30, 'model__min_samples_leaf': 3, 'model__max_depth': 21, 'model__criterion': 'gini'}\n"
     ]
    }
   ],
   "source": [
    "estimator = Pipeline([\n",
    "    ('transformer', transformer),\n",
    "    ('model', rf)])\n",
    "\n",
    "hyperparam_space = {\n",
    "    'model__n_estimators': [20, 30, 50, 70, 100, 150],\n",
    "    'model__criterion': ['gini', 'entropy'],\n",
    "    'model__max_depth': [2, 3, 7, 9, 13, 15, 17, 21],\n",
    "    'model__min_samples_leaf': [2, 3, 4]\n",
    "}\n",
    "\n",
    "random = RandomizedSearchCV(\n",
    "                estimator,\n",
    "                param_distributions = hyperparam_space,\n",
    "                cv = StratifiedKFold(n_splits = 5),\n",
    "                scoring = 'precision',\n",
    "                n_iter = 10,\n",
    "                n_jobs = -1)\n",
    "\n",
    "random.fit(X_train, y_train)\n",
    "\n",
    "print('best score', random.best_score_)\n",
    "print('best param', random.best_params_)"
   ]
  },
  {
   "cell_type": "markdown",
   "metadata": {},
   "source": [
    "- So far, the best score is 0.819 with best parameter:\n",
    "    * n_estimators: 30\n",
    "    * min_samples_leaf: 3\n",
    "    * max_depth: 21\n",
    "    * criterion: gini"
   ]
  },
  {
   "cell_type": "markdown",
   "metadata": {},
   "source": [
    "# Before and After Tuning"
   ]
  },
  {
   "cell_type": "code",
   "execution_count": 26,
   "metadata": {},
   "outputs": [
    {
     "data": {
      "text/html": [
       "<div>\n",
       "<style scoped>\n",
       "    .dataframe tbody tr th:only-of-type {\n",
       "        vertical-align: middle;\n",
       "    }\n",
       "\n",
       "    .dataframe tbody tr th {\n",
       "        vertical-align: top;\n",
       "    }\n",
       "\n",
       "    .dataframe thead th {\n",
       "        text-align: right;\n",
       "    }\n",
       "</style>\n",
       "<table border=\"1\" class=\"dataframe\">\n",
       "  <thead>\n",
       "    <tr style=\"text-align: right;\">\n",
       "      <th></th>\n",
       "      <th>method</th>\n",
       "      <th>score</th>\n",
       "    </tr>\n",
       "  </thead>\n",
       "  <tbody>\n",
       "    <tr>\n",
       "      <th>0</th>\n",
       "      <td>Random Forest Classifier Before Tuning</td>\n",
       "      <td>0.828794</td>\n",
       "    </tr>\n",
       "    <tr>\n",
       "      <th>1</th>\n",
       "      <td>Random Forest Classifier After Tuning</td>\n",
       "      <td>0.826848</td>\n",
       "    </tr>\n",
       "  </tbody>\n",
       "</table>\n",
       "</div>"
      ],
      "text/plain": [
       "                                   method     score\n",
       "0  Random Forest Classifier Before Tuning  0.828794\n",
       "1   Random Forest Classifier After Tuning  0.826848"
      ]
     },
     "execution_count": 26,
     "metadata": {},
     "output_type": "execute_result"
    }
   ],
   "source": [
    "estimator.fit(X_train, y_train)\n",
    "y_pred_estimator = estimator.predict(X_test)\n",
    "before = precision_score(y_test, y_pred_estimator)\n",
    "\n",
    "random.best_estimator_.fit(X_train, y_train)\n",
    "y_predict = random.best_estimator_.predict(X_test)\n",
    "after = precision_score(y_test, y_predict)\n",
    "\n",
    "score_list = [before, after]\n",
    "method_name = ['Random Forest Classifier Before Tuning', 'Random Forest Classifier After Tuning']\n",
    "best_summary = pd.DataFrame({\n",
    "    'method': method_name,\n",
    "    'score': score_list\n",
    "})\n",
    "best_summary"
   ]
  },
  {
   "cell_type": "markdown",
   "metadata": {},
   "source": [
    "- After tuning process, the score still the same with before tuning, maybe a litle bit higher than after. At the end, I will choose Random Forest Classifier Before Tuning to predict cancellation booking hotel."
   ]
  }
 ],
 "metadata": {
  "kernelspec": {
   "display_name": "Python 3",
   "language": "python",
   "name": "python3"
  },
  "language_info": {
   "codemirror_mode": {
    "name": "ipython",
    "version": 3
   },
   "file_extension": ".py",
   "mimetype": "text/x-python",
   "name": "python",
   "nbconvert_exporter": "python",
   "pygments_lexer": "ipython3",
   "version": "3.8.5"
  }
 },
 "nbformat": 4,
 "nbformat_minor": 4
}
